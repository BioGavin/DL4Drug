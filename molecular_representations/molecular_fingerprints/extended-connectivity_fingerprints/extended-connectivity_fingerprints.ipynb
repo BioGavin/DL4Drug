{
 "cells": [
  {
   "cell_type": "markdown",
   "source": [
    "# ECFPs 的从零实现\n",
    "以丁酰胺 (Butyramide) 为例"
   ],
   "metadata": {
    "collapsed": false
   }
  },
  {
   "cell_type": "code",
   "execution_count": 1,
   "outputs": [
    {
     "data": {
      "text/plain": "<rdkit.Chem.rdchem.Mol at 0x104024ee0>",
      "image/png": "[encoded data removed]"
     },
     "execution_count": 1,
     "metadata": {},
     "output_type": "execute_result"
    }
   ],
   "source": [
    "from rdkit import Chem\n",
    "\n",
    "\n",
    "def show_atom_number(mol, label):\n",
    "    for atom in mol.GetAtoms():\n",
    "        atom.SetProp(label, str(atom.GetIdx() + 1))\n",
    "    return mol\n",
    "\n",
    "\n",
    "smi = 'CCCC(=O)N'\n",
    "mol = Chem.MolFromSmiles(smi)\n",
    "show_atom_number(mol, 'atomNote')"
   ],
   "metadata": {
    "collapsed": false,
    "pycharm": {
     "name": "#%%\n"
    }
   }
  },
  {
   "cell_type": "markdown",
   "source": [
    "## Step 1 - Assigning an integer identifier to each atom\n",
    "给每个原子分配一个整型标识符，标识符是根据以下7个属性组成的元组经过 hash 后获得的。\n",
    "Daylight atomic invariants 是分子中原子的六个属性，分别是：\n",
    "- 非氢邻接原子的个数 (Number of non-hydrogen immediate neighbors)\n",
    "- 价电子数减去连接的氢原子的个数 (Valency minus the number of connected hydrogens)\n",
    "- 原子序数 (Atomic number)\n",
    "- 原子质量 (Atomic mass)\n",
    "- 原子电荷 (Atomic charge)\n",
    "- 连接的氢原子的个数 (Number of attached hydrogens (both implicit and explicit))\n",
    "\n",
    "在 ECFP 特征中还包含一个属性：\n",
    "- 该原子是否在环上，是为1否为0 (Whether the atom is a part of at least one ring(1, if yes, 0 otherwise))"
   ],
   "metadata": {
    "collapsed": false
   }
  },
  {
   "cell_type": "markdown",
   "source": [
    "这里以丁酰胺4位的碳原子为例，7个属性值分别为：\n",
    "- 非氢邻接原子的个数 = 3\n",
    "- 价电子数减去连接的氢原子的个数 = 4 (4-0)\n",
    "- 原子序数 = 6\n",
    "- 原子质量 = 12\n",
    "- 原子电荷 = 0\n",
    "- 连接的氢原子的个数 = 0\n",
    "- 该原子是否在环上 = 0 (no)\n",
    "\n",
    "因此，4位碳原子对应的属性元组为 f<sub>4</sub> = (3, 4, 6, 12, 0, 0, 0)\n",
    "对 f<sub>4</sub> 应用 hash 函数后得到的即为该原子的初始化标识符"
   ],
   "metadata": {
    "collapsed": false
   }
  },
  {
   "cell_type": "code",
   "execution_count": 2,
   "outputs": [
    {
     "data": {
      "text/plain": "{1: (1, 1, 6, 12.011, 0, 3, 0),\n 2: (2, 2, 6, 12.011, 0, 2, 0),\n 3: (2, 2, 6, 12.011, 0, 2, 0),\n 4: (3, 4, 6, 12.011, 0, 0, 0),\n 5: (1, 2, 8, 15.999, 0, 0, 0),\n 6: (1, 1, 7, 14.007, 0, 2, 0)}"
     },
     "execution_count": 2,
     "metadata": {},
     "output_type": "execute_result"
    }
   ],
   "source": [
    "def generate_invariants(mol) -> dict:\n",
    "    \"\"\"Generate atomic invariants for each atom in a molecule.\"\"\"\n",
    "    invariants_for_each_atom = {}  # {atom_idx: invariants_tuple}\n",
    "    for a in mol.GetAtoms():\n",
    "        f1 = a.GetDegree()\n",
    "        f2 = a.GetExplicitValence()\n",
    "        f3 = a.GetAtomicNum()\n",
    "        f4 = a.GetMass()\n",
    "        f5 = a.GetFormalCharge()\n",
    "        f6 = a.GetTotalDegree() - a.GetDegree()\n",
    "        f7 = 1 if a.IsInRing() else 0\n",
    "        invariants = (f1, f2, f3, f4, f5, f6, f7)\n",
    "        invariants_for_each_atom[a.GetIdx() + 1] = invariants\n",
    "    return invariants_for_each_atom\n",
    "\n",
    "\n",
    "invariants = generate_invariants(mol)\n",
    "invariants"
   ],
   "metadata": {
    "collapsed": false,
    "pycharm": {
     "name": "#%%\n"
    }
   }
  },
  {
   "cell_type": "code",
   "execution_count": 3,
   "outputs": [
    {
     "data": {
      "text/plain": "{1: 7116688983129619674,\n 2: 2344552756697499922,\n 3: 2344552756697499922,\n 4: 2528737177023612951,\n 5: -6488562442254792908,\n 6: 5357766901376560257}"
     },
     "execution_count": 3,
     "metadata": {},
     "output_type": "execute_result"
    }
   ],
   "source": [
    "def generate_identifier(invariants: dict) -> dict:\n",
    "    \"\"\"Generate identifier for each atom in a molecule.\"\"\"\n",
    "    identifier_for_each_atom = {}  # {atom_idx: identifier}\n",
    "    for idx, val in invariants.items():\n",
    "        identifier_for_each_atom[idx] = hash(val)\n",
    "    return identifier_for_each_atom\n",
    "\n",
    "\n",
    "identifier = generate_identifier(invariants)\n",
    "identifier"
   ],
   "metadata": {
    "collapsed": false,
    "pycharm": {
     "name": "#%%\n"
    }
   }
  },
  {
   "cell_type": "markdown",
   "source": [
    "## Step 2 - Iteratively updating the atom identifiers\n",
    "迭代更新每个原子的标识符\n",
    "首先，对每个原子生成一个初始数组列表，数组包含两个内容：\n",
    "1. 迭代数\n",
    "2. 初始化标识符\n",
    "\n",
    "对于示例分子中4位碳来说，即为 `[(1, 2528737177023612951)]`\n",
    "\n",
    "然后，我们向这个列表中添加邻接原子及连接键的数组信息，每个邻接原子及连接键的信息用一个二元数组表示，其内容分别为：\n",
    "1. 键类型 （分别用1、2、3、4表示单键、双键、三键、芳香键）\n",
    "2. 邻接原子标识符\n",
    "\n",
    "例如，丁酰胺中的4位碳将分别添加5位、3位和6位原子的信息，获得一个具有4个数组的列表"
   ],
   "metadata": {
    "collapsed": false
   }
  },
  {
   "cell_type": "markdown",
   "source": [
    "Note: GetBondTypeAsDouble() Returns the type of the bond as a double (i.e. 1.0 for SINGLE, 1.5 for AROMATIC, 2.0 for DOUBLE)"
   ],
   "metadata": {
    "collapsed": false
   }
  },
  {
   "cell_type": "code",
   "execution_count": 4,
   "outputs": [
    {
     "data": {
      "text/plain": "[(1.0, 2344552756697499922),\n (2.0, -6488562442254792908),\n (1.0, 5357766901376560257)]"
     },
     "execution_count": 4,
     "metadata": {},
     "output_type": "execute_result"
    }
   ],
   "source": [
    "def neighbor_feature(mol, atom, identifier: dict) -> list:\n",
    "    \"\"\"Capture the chemical information of each non-hydrogen neighbor.\"\"\"\n",
    "    bond_types, identifiers = [], []\n",
    "    for neighbor in atom.GetNeighbors():\n",
    "        bond_type = mol.GetBondBetweenAtoms(atom.GetIdx(), neighbor.GetIdx()).GetBondTypeAsDouble()\n",
    "        bond_types.append(bond_type)\n",
    "        identifiers.append(identifier.get(neighbor.GetIdx() + 1))\n",
    "    neighbor_features = list(zip(bond_types, identifiers))\n",
    "    return neighbor_features\n",
    "\n",
    "\n",
    "# 4位碳原子邻接原子的信息\n",
    "neighbor_feature(mol, mol.GetAtomWithIdx(3), identifier)"
   ],
   "metadata": {
    "collapsed": false,
    "pycharm": {
     "name": "#%%\n"
    }
   }
  },
  {
   "cell_type": "code",
   "execution_count": 5,
   "outputs": [
    {
     "data": {
      "text/plain": "{1: 4621612430120006443,\n 2: 203667645206468003,\n 3: -5197499935900455419,\n 4: -3630734120408554432,\n 5: 3563765881045461818,\n 6: 2735465057684242944}"
     },
     "execution_count": 5,
     "metadata": {},
     "output_type": "execute_result"
    }
   ],
   "source": [
    "def update_identifier(mol, identifier: dict, iteration_number: int) -> dict:\n",
    "    updated_identifier = {}\n",
    "    for idx, val in identifier.items():\n",
    "        f = [(iteration_number, val)] + neighbor_feature(mol, mol.GetAtomWithIdx(idx - 1), identifier)\n",
    "        tuple_f = ()\n",
    "        for i in f:\n",
    "            tuple_f += i\n",
    "        updated_identifier[idx] = hash(tuple_f)\n",
    "    return updated_identifier\n",
    "\n",
    "\n",
    "update_identifier(mol, identifier, 1)"
   ],
   "metadata": {
    "collapsed": false,
    "pycharm": {
     "name": "#%%\n"
    }
   }
  },
  {
   "cell_type": "markdown",
   "source": [
    "2位与3位原子初始的标识符是一样的，在一次迭代之后以及不一样了，因为他们各自所处的化学环境不同。"
   ],
   "metadata": {
    "collapsed": false
   }
  },
  {
   "cell_type": "markdown",
   "source": [
    "## Step 3 - Removing duplicate structures\n",
    "将初始以及迭代后获得的标识符全部收集起来，然后去掉重复值\n",
    "\n",
    "## Step 4 - Converting the identifiers to a bit vector\n",
    "自定义一个 bit vector 长度，一般是1024。完成指定次数的迭代后，初始化一个全零的1024维度的向量，用获得的标识符除以1024取余，把向量中索引等于这些余数的位置的值设为1，即得到 ECFP"
   ],
   "metadata": {
    "collapsed": false
   }
  },
  {
   "cell_type": "code",
   "execution_count": 6,
   "outputs": [],
   "source": [
    "def identifier2list(identifier: dict) -> list:\n",
    "    \"\"\"Collect values in dictionary into a list.\"\"\"\n",
    "    identifier_ls = []\n",
    "    for v in identifier.values():\n",
    "        identifier_ls.append(v)\n",
    "    return identifier_ls"
   ],
   "metadata": {
    "collapsed": false,
    "pycharm": {
     "name": "#%%\n"
    }
   }
  },
  {
   "cell_type": "code",
   "execution_count": 7,
   "outputs": [
    {
     "data": {
      "text/plain": "array([0., 0., 0., ..., 0., 0., 0.])"
     },
     "execution_count": 7,
     "metadata": {},
     "output_type": "execute_result"
    }
   ],
   "source": [
    "import numpy as np\n",
    "\n",
    "\n",
    "def ecfp(mol, radius=2, size=1024):\n",
    "    identifier_collector = []\n",
    "    # initial assignment stage\n",
    "    invariants = generate_invariants(mol)\n",
    "    identifier = generate_identifier(invariants)  # iteration0\n",
    "    identifier_collector += identifier2list(identifier)\n",
    "    # iterative updating stage\n",
    "    for n in range(radius):\n",
    "        identifier = update_identifier(mol, identifier, iteration_number=n + 1)\n",
    "        identifier_collector += identifier2list(identifier)\n",
    "    # duplicate identifier removal stage\n",
    "    identifier_collector = set(identifier_collector)\n",
    "    # forming the bit vector\n",
    "    fill_one_idx = set()\n",
    "    for i in identifier_collector:\n",
    "        fill_one_idx.add(i % size)\n",
    "    bit_vector = np.zeros(1024)\n",
    "    bit_vector[list(fill_one_idx)] = 1\n",
    "    return bit_vector\n",
    "\n",
    "\n",
    "ecfp(mol)"
   ],
   "metadata": {
    "collapsed": false,
    "pycharm": {
     "name": "#%%\n"
    }
   }
  },
  {
   "cell_type": "markdown",
   "source": [
    "# ECFPs 的简洁实现"
   ],
   "metadata": {
    "collapsed": false
   }
  },
  {
   "cell_type": "code",
   "execution_count": 8,
   "outputs": [
    {
     "name": "stdout",
     "output_type": "stream",
     "text": [
      "[0. 1. 0. ... 0. 0. 0.]\n",
      "(2048,)\n"
     ]
    }
   ],
   "source": [
    "from rdkit import Chem\n",
    "from rdkit.Chem.AllChem import GetMorganFingerprintAsBitVect\n",
    "from rdkit.DataStructs.cDataStructs import ConvertToNumpyArray\n",
    "import numpy as np\n",
    "\n",
    "atorvastatin_smiles = 'O=C(O)C[C@H](O)C[C@H](O)CCn2c(c(c(c2c1ccc(F)cc1)c3ccccc3)C(=O)Nc4ccccc4)C(C)C'\n",
    "atorvastatin = Chem.MolFromSmiles(atorvastatin_smiles)  # Atorvastatin (aka Lipitor) is one of the world's best-selling drugs.\n",
    "\n",
    "fingerprint = GetMorganFingerprintAsBitVect(atorvastatin, radius=2, nBits=2048)\n",
    "\n",
    "fp_array = np.zeros((1,))\n",
    "ConvertToNumpyArray(fingerprint, fp_array)\n",
    "\n",
    "print(fp_array)\n",
    "\n",
    "print(fp_array.shape)\n"
   ],
   "metadata": {
    "collapsed": false,
    "pycharm": {
     "name": "#%%\n"
    }
   }
  },
  {
   "cell_type": "markdown",
   "source": [
    "# 使用 TorchDrug 实现 ECFPs"
   ],
   "metadata": {
    "collapsed": false
   }
  },
  {
   "cell_type": "markdown",
   "source": [
    "TorchDrug 中的 ECFP 默认半径为2，长度为 1024"
   ],
   "metadata": {
    "collapsed": false
   }
  },
  {
   "cell_type": "code",
   "execution_count": 9,
   "outputs": [
    {
     "name": "stdout",
     "output_type": "stream",
     "text": [
      "1024\n"
     ]
    },
    {
     "data": {
      "text/plain": "[0,\n 0,\n 0,\n 0,\n 0,\n 0,\n 0,\n 0,\n 0,\n 0,\n 0,\n 0,\n 0,\n 0,\n 0,\n 0,\n 0,\n 0,\n 0,\n 0,\n 0,\n 0,\n 0,\n 0,\n 0,\n 0,\n 0,\n 0,\n 0,\n 0,\n 0,\n 0,\n 0,\n 1,\n 0,\n 0,\n 0,\n 0,\n 0,\n 0,\n 0,\n 0,\n 0,\n 0,\n 0,\n 0,\n 0,\n 0,\n 0,\n 0,\n 0,\n 0,\n 0,\n 0,\n 0,\n 0,\n 0,\n 0,\n 0,\n 0,\n 0,\n 0,\n 0,\n 0,\n 0,\n 0,\n 0,\n 0,\n 0,\n 0,\n 0,\n 0,\n 0,\n 0,\n 0,\n 0,\n 0,\n 0,\n 0,\n 0,\n 1,\n 0,\n 0,\n 0,\n 0,\n 0,\n 0,\n 0,\n 0,\n 0,\n 0,\n 0,\n 0,\n 0,\n 0,\n 0,\n 0,\n 0,\n 0,\n 0,\n 0,\n 0,\n 0,\n 0,\n 0,\n 0,\n 0,\n 0,\n 0,\n 0,\n 0,\n 0,\n 0,\n 0,\n 0,\n 0,\n 0,\n 0,\n 0,\n 0,\n 0,\n 0,\n 0,\n 0,\n 0,\n 0,\n 0,\n 0,\n 0,\n 0,\n 0,\n 0,\n 0,\n 0,\n 0,\n 0,\n 0,\n 0,\n 0,\n 0,\n 1,\n 0,\n 0,\n 0,\n 0,\n 0,\n 0,\n 1,\n 0,\n 0,\n 0,\n 0,\n 0,\n 0,\n 0,\n 0,\n 0,\n 0,\n 0,\n 0,\n 0,\n 0,\n 0,\n 0,\n 0,\n 0,\n 0,\n 0,\n 0,\n 0,\n 0,\n 0,\n 0,\n 0,\n 0,\n 0,\n 0,\n 0,\n 0,\n 0,\n 0,\n 0,\n 0,\n 0,\n 0,\n 0,\n 0,\n 0,\n 0,\n 0,\n 0,\n 0,\n 0,\n 0,\n 0,\n 0,\n 0,\n 0,\n 0,\n 0,\n 0,\n 0,\n 0,\n 0,\n 0,\n 0,\n 0,\n 0,\n 0,\n 0,\n 0,\n 0,\n 0,\n 0,\n 0,\n 0,\n 0,\n 0,\n 0,\n 0,\n 0,\n 0,\n 0,\n 0,\n 0,\n 0,\n 0,\n 0,\n 0,\n 0,\n 0,\n 0,\n 0,\n 0,\n 0,\n 0,\n 0,\n 0,\n 0,\n 0,\n 0,\n 0,\n 0,\n 0,\n 0,\n 0,\n 0,\n 0,\n 0,\n 0,\n 0,\n 0,\n 0,\n 0,\n 0,\n 0,\n 0,\n 0,\n 0,\n 0,\n 0,\n 0,\n 0,\n 0,\n 0,\n 0,\n 0,\n 0,\n 0,\n 0,\n 0,\n 0,\n 0,\n 0,\n 0,\n 0,\n 0,\n 0,\n 0,\n 0,\n 0,\n 0,\n 0,\n 0,\n 0,\n 0,\n 0,\n 0,\n 0,\n 0,\n 0,\n 0,\n 0,\n 0,\n 1,\n 0,\n 0,\n 0,\n 0,\n 0,\n 0,\n 0,\n 0,\n 0,\n 0,\n 0,\n 0,\n 0,\n 0,\n 0,\n 0,\n 0,\n 0,\n 0,\n 0,\n 0,\n 0,\n 0,\n 0,\n 0,\n 0,\n 0,\n 0,\n 0,\n 0,\n 0,\n 0,\n 0,\n 0,\n 0,\n 0,\n 0,\n 0,\n 1,\n 0,\n 0,\n 0,\n 0,\n 0,\n 0,\n 0,\n 0,\n 0,\n 0,\n 0,\n 0,\n 0,\n 0,\n 0,\n 0,\n 0,\n 0,\n 0,\n 0,\n 0,\n 0,\n 0,\n 0,\n 0,\n 0,\n 0,\n 0,\n 0,\n 0,\n 0,\n 0,\n 0,\n 0,\n 0,\n 0,\n 0,\n 0,\n 0,\n 0,\n 0,\n 0,\n 0,\n 0,\n 0,\n 0,\n 0,\n 0,\n 0,\n 0,\n 0,\n 0,\n 0,\n 0,\n 0,\n 0,\n 0,\n 0,\n 0,\n 0,\n 0,\n 0,\n 0,\n 0,\n 0,\n 0,\n 0,\n 0,\n 0,\n 0,\n 0,\n 0,\n 0,\n 0,\n 0,\n 0,\n 0,\n 0,\n 0,\n 0,\n 0,\n 0,\n 0,\n 0,\n 0,\n 0,\n 0,\n 0,\n 0,\n 0,\n 0,\n 0,\n 0,\n 0,\n 0,\n 0,\n 0,\n 0,\n 0,\n 0,\n 0,\n 0,\n 0,\n 0,\n 0,\n 0,\n 0,\n 0,\n 0,\n 0,\n 0,\n 0,\n 0,\n 0,\n 0,\n 0,\n 0,\n 0,\n 0,\n 0,\n 0,\n 0,\n 0,\n 0,\n 0,\n 0,\n 0,\n 0,\n 0,\n 0,\n 0,\n 0,\n 0,\n 0,\n 0,\n 0,\n 0,\n 0,\n 0,\n 0,\n 0,\n 0,\n 0,\n 0,\n 0,\n 0,\n 0,\n 0,\n 0,\n 0,\n 0,\n 0,\n 0,\n 0,\n 0,\n 0,\n 0,\n 0,\n 0,\n 0,\n 0,\n 0,\n 0,\n 0,\n 0,\n 0,\n 0,\n 0,\n 0,\n 0,\n 0,\n 0,\n 0,\n 0,\n 0,\n 0,\n 0,\n 0,\n 0,\n 0,\n 0,\n 0,\n 0,\n 0,\n 0,\n 0,\n 0,\n 0,\n 0,\n 0,\n 0,\n 0,\n 0,\n 0,\n 0,\n 0,\n 0,\n 0,\n 0,\n 0,\n 0,\n 0,\n 0,\n 0,\n 0,\n 0,\n 1,\n 0,\n 0,\n 0,\n 0,\n 1,\n 0,\n 0,\n 0,\n 0,\n 0,\n 0,\n 0,\n 0,\n 0,\n 0,\n 0,\n 0,\n 0,\n 0,\n 0,\n 0,\n 0,\n 0,\n 0,\n 0,\n 0,\n 0,\n 0,\n 0,\n 0,\n 0,\n 0,\n 0,\n 0,\n 0,\n 0,\n 0,\n 0,\n 0,\n 0,\n 0,\n 0,\n 0,\n 0,\n 0,\n 0,\n 0,\n 0,\n 0,\n 0,\n 0,\n 0,\n 0,\n 0,\n 0,\n 0,\n 0,\n 0,\n 0,\n 0,\n 0,\n 0,\n 0,\n 0,\n 0,\n 0,\n 0,\n 0,\n 0,\n 0,\n 0,\n 0,\n 0,\n 0,\n 0,\n 0,\n 0,\n 0,\n 0,\n 0,\n 0,\n 0,\n 0,\n 0,\n 0,\n 0,\n 0,\n 0,\n 0,\n 0,\n 0,\n 0,\n 0,\n 0,\n 0,\n 0,\n 0,\n 0,\n 0,\n 0,\n 0,\n 0,\n 0,\n 0,\n 0,\n 0,\n 0,\n 0,\n 0,\n 1,\n 0,\n 0,\n 0,\n 0,\n 0,\n 0,\n 0,\n 0,\n 0,\n 0,\n 0,\n 0,\n 0,\n 0,\n 0,\n 0,\n 0,\n 0,\n 0,\n 0,\n 0,\n 0,\n 0,\n 0,\n 0,\n 0,\n 0,\n 0,\n 0,\n 0,\n 0,\n 0,\n 0,\n 0,\n 0,\n 0,\n 0,\n 0,\n 0,\n 0,\n 0,\n 0,\n 0,\n 0,\n 0,\n 0,\n 0,\n 0,\n 0,\n 0,\n 0,\n 0,\n 0,\n 0,\n 0,\n 0,\n 0,\n 0,\n 0,\n 0,\n 0,\n 0,\n 0,\n 0,\n 0,\n 0,\n 0,\n 0,\n 0,\n 0,\n 0,\n 0,\n 0,\n 0,\n 0,\n 0,\n 0,\n 0,\n 0,\n 0,\n 0,\n 0,\n 0,\n 0,\n 0,\n 0,\n 0,\n 0,\n 0,\n 0,\n 0,\n 0,\n 0,\n 0,\n 0,\n 0,\n 0,\n 0,\n 0,\n 0,\n 0,\n 0,\n 0,\n 0,\n 0,\n 0,\n 0,\n 0,\n 0,\n 0,\n 0,\n 0,\n 0,\n 0,\n 0,\n 0,\n 0,\n 0,\n 0,\n 0,\n 0,\n 0,\n 0,\n 0,\n 0,\n 0,\n 0,\n 0,\n 0,\n 0,\n 0,\n 0,\n 0,\n 0,\n 0,\n 0,\n 0,\n 0,\n 0,\n 0,\n 0,\n 0,\n 0,\n 1,\n 0,\n 0,\n 0,\n 0,\n 0,\n 0,\n 0,\n 0,\n 0,\n 0,\n 0,\n 0,\n 1,\n 0,\n 0,\n 0,\n 0,\n 0,\n 0,\n 0,\n 0,\n 0,\n 0,\n 0,\n 0,\n 0,\n 0,\n 0,\n 0,\n 0,\n 0,\n 0,\n 0,\n 0,\n 0,\n 0,\n 0,\n 0,\n 0,\n 0,\n 0,\n 0,\n 0,\n 0,\n 0,\n 0,\n 0,\n 0,\n 0,\n 0,\n 0,\n 0,\n 0,\n 0,\n 0,\n 0,\n 0,\n 0,\n 0,\n 0,\n 0,\n 0,\n 0,\n 0,\n 0,\n 0,\n 0,\n 0,\n 0,\n 0,\n 0,\n 0,\n 0,\n 0,\n 0,\n 0,\n 0,\n 0,\n 0,\n 1,\n 0,\n 0,\n 0,\n 0,\n 0,\n 0,\n 0,\n 0,\n 0,\n 0,\n 0,\n 0,\n 0,\n 0,\n 0,\n 0,\n 0,\n 0,\n 1,\n 0,\n 0,\n 0,\n 0,\n 0,\n 0,\n 0,\n 0,\n 0,\n 0,\n 0,\n 0,\n 0,\n 0,\n 0,\n 0,\n 0,\n 0,\n 0,\n 0,\n 0,\n 0,\n 0,\n 0,\n 0,\n 0,\n 0,\n 0,\n 0,\n 0,\n 0,\n 0,\n 0,\n 0,\n 0,\n 0,\n 0,\n 0,\n 0,\n 0,\n 0,\n 0,\n 0,\n 0,\n 0,\n 0,\n 0,\n 0,\n 0,\n 0,\n 0,\n 0,\n 0,\n 0,\n 0,\n 0,\n 0,\n 0,\n 0,\n 0,\n 0,\n 0,\n 0,\n 0,\n 0,\n 0,\n 0,\n 0,\n 1,\n 0,\n 0,\n 0,\n 0,\n 0,\n 0,\n 0,\n 0,\n 0,\n 0,\n 0,\n 0,\n 0,\n 0,\n 0,\n 0,\n 0,\n 0,\n 0,\n 0,\n 0,\n 0,\n 0,\n 0,\n 0,\n 0,\n 0,\n 0,\n 0,\n 0,\n 0,\n 0,\n 0,\n 0,\n 0,\n 0,\n 0,\n ...]"
     },
     "execution_count": 9,
     "metadata": {},
     "output_type": "execute_result"
    }
   ],
   "source": [
    "from torchdrug import data\n",
    "\n",
    "ecfp = data.feature.ExtendedConnectivityFingerprint(mol)\n",
    "print(len(ecfp))\n",
    "ecfp"
   ],
   "metadata": {
    "collapsed": false,
    "pycharm": {
     "name": "#%%\n"
    }
   }
  },
  {
   "cell_type": "markdown",
   "source": [
    "# 使用 DeepChem 实现 ECFPs\n",
    "每个分子被表示成一个 1024 维度的向量，向量中只有 0 和 1 两个数字"
   ],
   "metadata": {
    "collapsed": false
   }
  },
  {
   "cell_type": "code",
   "execution_count": 10,
   "metadata": {
    "collapsed": true
   },
   "outputs": [
    {
     "name": "stdout",
     "output_type": "stream",
     "text": [
      "15:59:21   NumExpr defaulting to 8 threads.\n",
      "15:59:24   Featurizing datapoint 0\n"
     ]
    },
    {
     "data": {
      "text/plain": "array([[0., 0., 0., ..., 0., 0., 0.]])"
     },
     "execution_count": 10,
     "metadata": {},
     "output_type": "execute_result"
    }
   ],
   "source": [
    "import deepchem as dc\n",
    "\n",
    "feat = dc.feat.CircularFingerprint(size=1024)\n",
    "arr = feat.featurize(mol)\n",
    "arr"
   ]
  },
  {
   "cell_type": "markdown",
   "source": [
    "数据集中的示例"
   ],
   "metadata": {
    "collapsed": false
   }
  },
  {
   "cell_type": "code",
   "execution_count": 11,
   "outputs": [
    {
     "name": "stdout",
     "output_type": "stream",
     "text": [
      "15:59:24   About to featurize delaney dataset.\n",
      "15:59:25   Loading raw samples now.\n",
      "15:59:25   shard_size: 8192\n",
      "15:59:25   About to start loading CSV from /var/folders/3c/v18vsqt50jzgnmgzv858z_rm0000gn/T/delaney-processed.csv\n",
      "15:59:25   Loading shard 1 of size 8192.\n",
      "15:59:25   About to featurize shard.\n",
      "15:59:25   Featurizing datapoint 0\n",
      "15:59:27   Featurizing datapoint 1000\n",
      "15:59:27   TIMING: featurizing shard 0 took 1.742 s\n",
      "15:59:27   TIMING: dataset construction took 1.788 s\n",
      "15:59:27   Loading dataset from disk.\n",
      "15:59:27   About to split dataset with ScaffoldSplitter splitter.\n",
      "15:59:27   Computing train/valid/test indices\n",
      "15:59:27   About to generate scaffolds\n",
      "15:59:27   Generating scaffold 0/1128\n",
      "15:59:27   Generating scaffold 1000/1128\n",
      "15:59:27   About to sort in scaffold sets\n",
      "15:59:27   Constructing selection output shard 1\n",
      "15:59:27   Selecting from input shard 1/1 for selection output shard 1\n",
      "15:59:27   TIMING: dataset construction took 0.035 s\n",
      "15:59:27   Loading dataset from disk.\n",
      "15:59:27   Constructing selection output shard 1\n",
      "15:59:27   Selecting from input shard 1/1 for selection output shard 1\n",
      "15:59:27   TIMING: dataset construction took 0.005 s\n",
      "15:59:27   Loading dataset from disk.\n",
      "15:59:27   Constructing selection output shard 1\n",
      "15:59:27   Selecting from input shard 1/1 for selection output shard 1\n",
      "15:59:27   TIMING: dataset construction took 0.005 s\n",
      "15:59:27   Loading dataset from disk.\n",
      "15:59:27   About to transform data.\n",
      "15:59:27   Transforming shard 0/1\n",
      "15:59:27   TIMING: dataset construction took 0.019 s\n",
      "15:59:27   Loading dataset from disk.\n",
      "15:59:27   TIMING: transforming took 0.022 s\n",
      "15:59:27   Transforming shard 0/1\n",
      "15:59:27   TIMING: dataset construction took 0.007 s\n",
      "15:59:27   Loading dataset from disk.\n",
      "15:59:27   TIMING: transforming took 0.010 s\n",
      "15:59:27   Transforming shard 0/1\n",
      "15:59:27   TIMING: dataset construction took 0.006 s\n",
      "15:59:27   Loading dataset from disk.\n",
      "15:59:27   TIMING: transforming took 0.009 s\n"
     ]
    }
   ],
   "source": [
    "tasks, datasets, transformers = dc.molnet.load_delaney(featurizer='ECFP')\n",
    "train_dataset, valid_dataset, test_dataset = datasets"
   ],
   "metadata": {
    "collapsed": false,
    "pycharm": {
     "name": "#%%\n"
    }
   }
  },
  {
   "cell_type": "code",
   "execution_count": 12,
   "outputs": [
    {
     "data": {
      "text/plain": "<DiskDataset X.shape: (902, 1024), y.shape: (902, 1), w.shape: (902, 1), ids: ['CC(C)=CCCC(C)=CC(=O)' 'CCCC=C' 'CCCCCCCCCCCCCC' ...\n 'Nc2cccc3nc1ccccc1cc23 ' 'C1CCCCCC1' 'OC1CCCCCC1'], task_names: ['measured log solubility in mols per litre']>"
     },
     "execution_count": 12,
     "metadata": {},
     "output_type": "execute_result"
    }
   ],
   "source": [
    "train_dataset"
   ],
   "metadata": {
    "collapsed": false,
    "pycharm": {
     "name": "#%%\n"
    }
   }
  },
  {
   "cell_type": "code",
   "execution_count": 13,
   "outputs": [
    {
     "data": {
      "text/plain": "array([[0., 0., 0., ..., 0., 0., 0.],\n       [0., 0., 0., ..., 0., 0., 0.],\n       [0., 0., 0., ..., 0., 0., 0.],\n       ...,\n       [0., 0., 0., ..., 0., 0., 0.],\n       [0., 0., 1., ..., 0., 0., 0.],\n       [0., 0., 1., ..., 0., 0., 0.]])"
     },
     "execution_count": 13,
     "metadata": {},
     "output_type": "execute_result"
    }
   ],
   "source": [
    "train_dataset.X"
   ],
   "metadata": {
    "collapsed": false,
    "pycharm": {
     "name": "#%%\n"
    }
   }
  }
 ],
 "metadata": {
  "kernelspec": {
   "display_name": "Python 3",
   "language": "python",
   "name": "python3"
  },
  "language_info": {
   "codemirror_mode": {
    "name": "ipython",
    "version": 2
   },
   "file_extension": ".py",
   "mimetype": "text/x-python",
   "name": "python",
   "nbconvert_exporter": "python",
   "pygments_lexer": "ipython2",
   "version": "2.7.6"
  }
 },
 "nbformat": 4,
 "nbformat_minor": 0
}